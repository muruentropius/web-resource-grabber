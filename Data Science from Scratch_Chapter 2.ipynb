{
 "cells": [
  {
   "cell_type": "markdown",
   "metadata": {},
   "source": [
    "## 흐름 제어"
   ]
  },
  {
   "cell_type": "code",
   "execution_count": 1,
   "metadata": {},
   "outputs": [
    {
     "name": "stdout",
     "output_type": "stream",
     "text": [
      "when all else fails use else (if you want to)\n"
     ]
    }
   ],
   "source": [
    "if 1 > 2:\n",
    "    message = \"if only 1 were greater than two..\"\n",
    "elif 1 > 3:\n",
    "    message = \"elif stands for 'else if'\"\n",
    "else:\n",
    "    message = \"when all else fails use else (if you want to)\"\n",
    "\n",
    "print(message) # \"when all else fails use else (if you want to)\"b"
   ]
  },
  {
   "cell_type": "code",
   "execution_count": 3,
   "metadata": {},
   "outputs": [
    {
     "name": "stdout",
     "output_type": "stream",
     "text": [
      "0 is less than 10\n",
      "1 is less than 10\n",
      "2 is less than 10\n",
      "3 is less than 10\n",
      "4 is less than 10\n",
      "5 is less than 10\n",
      "6 is less than 10\n",
      "7 is less than 10\n",
      "8 is less than 10\n",
      "9 is less than 10\n",
      "0 is less than 10\n",
      "1 is less than 10\n",
      "2 is less than 10\n",
      "3 is less than 10\n",
      "4 is less than 10\n",
      "5 is less than 10\n",
      "6 is less than 10\n",
      "7 is less than 10\n",
      "8 is less than 10\n",
      "9 is less than 10\n"
     ]
    }
   ],
   "source": [
    "parity = \"even\" if x%2 == 0 else \"odd\"\n",
    "\n",
    "x = 0\n",
    "while x < 10:\n",
    "    print (x, \"is less than 10\")\n",
    "    x += 1\n",
    "\n",
    "for x in range(10):\n",
    "    print(x, \"is less than 10\")"
   ]
  },
  {
   "cell_type": "code",
   "execution_count": 4,
   "metadata": {},
   "outputs": [
    {
     "name": "stdout",
     "output_type": "stream",
     "text": [
      "0\n",
      "1\n",
      "2\n",
      "4\n"
     ]
    }
   ],
   "source": [
    "for x in range(10):\n",
    "    if x == 3:\n",
    "        continue # 바로 다음 번으로 반복\n",
    "    if x == 5:\n",
    "        break # 반복문 자체를 종료\n",
    "    print(x)"
   ]
  },
  {
   "cell_type": "markdown",
   "metadata": {},
   "source": [
    "## True와 False"
   ]
  },
  {
   "cell_type": "code",
   "execution_count": 5,
   "metadata": {},
   "outputs": [],
   "source": [
    "one_is_less_than_two = 1 < 2 # 결과는 True\n",
    "true_equals_false = True == False # 결과는 False"
   ]
  },
  {
   "cell_type": "code",
   "execution_count": 6,
   "metadata": {},
   "outputs": [
    {
     "name": "stdout",
     "output_type": "stream",
     "text": [
      "True\n",
      "True\n"
     ]
    }
   ],
   "source": [
    "x = None\n",
    "print(x == None) # True가 출력, 하지만 파이썬스럽지가 않다.\n",
    "print(x is None) # True가 출력, 이제 파이썬스럽다."
   ]
  },
  {
   "cell_type": "code",
   "execution_count": 7,
   "metadata": {},
   "outputs": [
    {
     "ename": "SyntaxError",
     "evalue": "unexpected EOF while parsing (<ipython-input-7-6f3593253e87>, line 2)",
     "output_type": "error",
     "traceback": [
      "\u001b[0;36m  File \u001b[0;32m\"<ipython-input-7-6f3593253e87>\"\u001b[0;36m, line \u001b[0;32m2\u001b[0m\n\u001b[0;31m    if s:\u001b[0m\n\u001b[0m         ^\u001b[0m\n\u001b[0;31mSyntaxError\u001b[0m\u001b[0;31m:\u001b[0m unexpected EOF while parsing\n"
     ]
    }
   ],
   "source": [
    "s = some_function_that_returns_a_string()\n",
    "if s:\n",
    "    first_char = s[0]\n",
    "else:\n",
    "    first_char = \"\"\n",
    "    \n",
    "first_char = s and s[0]\n",
    "safe_x = x or 0"
   ]
  },
  {
   "cell_type": "code",
   "execution_count": 29,
   "metadata": {},
   "outputs": [
    {
     "data": {
      "text/plain": [
       "False"
      ]
     },
     "execution_count": 29,
     "metadata": {},
     "output_type": "execute_result"
    }
   ],
   "source": [
    "all([True, 1, {3}]) # True\n",
    "all([True, 1, {}]) # False, {}는 거짓을 의미하기 때문에\n",
    "any([True, 1, {}]) # True\n",
    "all([]) # True, 거짓인 항목이 없기 때문에\n",
    "any([]) # False, 참인 항목이 없기 때문에"
   ]
  },
  {
   "cell_type": "markdown",
   "metadata": {},
   "source": [
    "# 2. 2 기본기에서 한 걸음 더 나아가기"
   ]
  },
  {
   "cell_type": "code",
   "execution_count": 30,
   "metadata": {},
   "outputs": [
    {
     "ename": "SyntaxError",
     "evalue": "invalid syntax (<ipython-input-30-6489207fa16f>, line 10)",
     "output_type": "error",
     "traceback": [
      "\u001b[0;36m  File \u001b[0;32m\"<ipython-input-30-6489207fa16f>\"\u001b[0;36m, line \u001b[0;32m10\u001b[0m\n\u001b[0;31m    key=lambda (word, count): count,\u001b[0m\n\u001b[0m               ^\u001b[0m\n\u001b[0;31mSyntaxError\u001b[0m\u001b[0;31m:\u001b[0m invalid syntax\n"
     ]
    }
   ],
   "source": [
    "x = [4,1,2,3]\n",
    "y = sorted(x) # y는 [1,2,3,4], 하지만 x는 변하지 않음\n",
    "x.sort() # 이제 x는 [1,2,3,4]\n",
    "\n",
    "# 절댓값의 내림차순으로 list를 정렬\n",
    "x = sorted([-4, 1, -2, 3], key=abs, reverse=True) # 결과는 [-4, 3, -2, 1]\n",
    "\n",
    "# 빈도의 내림차순으로 단어와 빈도를 정렬\n",
    "wc = sorted(word_counts.items(),\n",
    "           key=lambda (word, count): count,\n",
    "           reverse=True)"
   ]
  },
  {
   "cell_type": "markdown",
   "metadata": {},
   "source": [
    "## list comprehension"
   ]
  },
  {
   "cell_type": "code",
   "execution_count": 34,
   "metadata": {},
   "outputs": [
    {
     "name": "stdout",
     "output_type": "stream",
     "text": [
      "{0: 0, 1: 1, 2: 4, 3: 9, 4: 16} {1}\n"
     ]
    }
   ],
   "source": [
    "even_numbers = [x for x in range(5) if x % 2 == 0] # [0, 2, 4]\n",
    "squares = [x * x for x in range(5)] # [0, 1, 4, 9, 16]\n",
    "even_squares = [x * x for x in even_numbers] # [0, 4, 16]\n",
    "\n",
    "square_dict = { x : x * x for x in range(5) } # { 0:0, 1:1, 2:4, 3:9, 4:16 }\n",
    "square_set = { x * x for x in [1, -1]} # { 1 }\n",
    "\n",
    "zeroes = [0 for _ in even_numbers] # even_numbers와 동일한 길이\n",
    "\n",
    "pairs = [(x, y)\n",
    "         for x in range(10)\n",
    "         for y in range(10)] # (0,0) (0,1) ... (9,8), (9,9) 총 100개\n",
    "\n",
    "increasing_pairs = [(x, y) # x < y인 경우만 해당\n",
    "                   for x in range(10) # range(lo, hi)는\n",
    "                   for y in range(x + 1, 10)] # [lo, lo + 1, ..., hi - 1]을 의미함"
   ]
  },
  {
   "cell_type": "markdown",
   "metadata": {},
   "source": [
    "# Generator와 iterator"
   ]
  },
  {
   "cell_type": "code",
   "execution_count": 4,
   "metadata": {},
   "outputs": [],
   "source": [
    "def lazy_range(n):\n",
    "    \"\"\"range와 똑같은 기능을 하는 generator\"\"\"\n",
    "    i = 0\n",
    "    while i < n:\n",
    "        yield i\n",
    "        i += 1\n",
    "    \n",
    "for i in lazy_range(10):\n",
    "    do_something_with(i)\n",
    "    \n",
    "\n",
    "def natural_numbers():\n",
    "    \"\"\"1, 2, 3, ...를 반환\"\"\"\n",
    "    i = 1\n",
    "    while True:\n",
    "        yield i\n",
    "        i += 1\n",
    "        \n",
    "lazy_even_below_20 = (i for i in lazy_range(20) if i % 2 == 0)"
   ]
  },
  {
   "cell_type": "markdown",
   "metadata": {},
   "source": [
    "# 난수 생성"
   ]
  },
  {
   "cell_type": "code",
   "execution_count": 46,
   "metadata": {},
   "outputs": [
    {
     "name": "stdout",
     "output_type": "stream",
     "text": [
      "0.5714025946899135\n",
      "0.5714025946899135\n"
     ]
    }
   ],
   "source": [
    "import random\n",
    "\n",
    "four_uniform_randoms = [random.random() for _ in range(4)]\n",
    "\n",
    "random.seed(10) # seed를 10으로 설정\n",
    "print(random.random())\n",
    "random.seed(10) # seed를 다시 10으로 설정해도\n",
    "print(random.random())\n",
    "\n",
    "random.seed(11037)"
   ]
  },
  {
   "cell_type": "code",
   "execution_count": 47,
   "metadata": {},
   "outputs": [
    {
     "name": "stdout",
     "output_type": "stream",
     "text": [
      "[0, 9, 7, 8, 1, 5, 3, 4, 6, 2]\n",
      "Charlie\n",
      "[55, 50, 58, 3, 53, 35]\n",
      "[1, 7, 3, 1]\n"
     ]
    }
   ],
   "source": [
    "random.randrange(10) # range(10) = [0, 1, ..., 9]에서 난수 생성\n",
    "random.randrange(3, 6) # range(3, 6) = [3, 4, 5]에서 난수 생성\n",
    "\n",
    "up_to_ten = [i for i in range(10)]\n",
    "random.shuffle(up_to_ten)\n",
    "print(up_to_ten)\n",
    "\n",
    "my_best_friend = random.choice([\"Alice\", \"Bob\", \"Charlie\"])\n",
    "print(my_best_friend)\n",
    "\n",
    "lottery_numbers = [i for i in range(60)]\n",
    "winning_numbers = random.sample(lottery_numbers, 6)\n",
    "print(winning_numbers)\n",
    "\n",
    "four_with_replacement = [random.choice([i for i in range(10)])\n",
    "                        for _ in range(4)]\n",
    "print(four_with_replacement)"
   ]
  },
  {
   "cell_type": "markdown",
   "metadata": {},
   "source": [
    "# regular expressions"
   ]
  },
  {
   "cell_type": "code",
   "execution_count": 48,
   "metadata": {},
   "outputs": [
    {
     "name": "stdout",
     "output_type": "stream",
     "text": [
      "True\n"
     ]
    }
   ],
   "source": [
    "import re\n",
    "print(all([ # 모두 True\n",
    "    not re.match(\"a\", \"cat\"), # 'cat'은 'a'로 시작하지 않기 때문에\n",
    "    re.search(\"a\", \"cat\"), # 'cat' 안에는 'a'가 존재하기 대문에\n",
    "    not re.search(\"c\", \"dog\"), # 'dog' 안에는 'c'가 존재하지 않기 때문에\n",
    "    3 == len(re.split(\"[ab]\", \"carbs\")), # a 혹은 b 기준으로 나누면\n",
    "                                         # ['c', 'r', 's']가 생성되기 때문에\n",
    "    \"R-D-\" == re.sub(\"[0-9]\", \"-\", \"R2D2\") # 숫자를 \"-\"로 대체\n",
    "])) # True가 출력됨"
   ]
  },
  {
   "cell_type": "markdown",
   "metadata": {},
   "source": [
    "# Object-Orinted Programming"
   ]
  },
  {
   "cell_type": "code",
   "execution_count": null,
   "metadata": {},
   "outputs": [],
   "source": []
  },
  {
   "cell_type": "markdown",
   "metadata": {},
   "source": [
    "# args과 kwargs"
   ]
  },
  {
   "cell_type": "code",
   "execution_count": 3,
   "metadata": {},
   "outputs": [
    {
     "name": "stdout",
     "output_type": "stream",
     "text": [
      "unnamed args:  (1, 2)\n",
      "keyword args:  {'key': 'word', 'key2': 'word2'}\n"
     ]
    }
   ],
   "source": [
    "def magic(*args, **kwargs):\n",
    "    print(\"unnamed args: \", args)\n",
    "    print(\"keyword args: \", kwargs)\n",
    "\n",
    "magic(1, 2, key=\"word\", key2=\"word2\")"
   ]
  },
  {
   "cell_type": "code",
   "execution_count": 4,
   "metadata": {},
   "outputs": [
    {
     "name": "stdout",
     "output_type": "stream",
     "text": [
      "6\n"
     ]
    }
   ],
   "source": [
    "def other_way_magic(x, y, z):\n",
    "    return x + y + z\n",
    "\n",
    "x_y_list = [1, 2]\n",
    "z_dict = { \"z\" : 3 }\n",
    "print(other_way_magic(*x_y_list, **z_dict))"
   ]
  },
  {
   "cell_type": "code",
   "execution_count": 11,
   "metadata": {},
   "outputs": [
    {
     "name": "stdout",
     "output_type": "stream",
     "text": [
      "28\n"
     ]
    }
   ],
   "source": [
    "def f2(x, y):\n",
    "    return x + y\n",
    "def doubler_correct(f):\n",
    "    def g(*args, **kwargs):\n",
    "        return 2 * f(*args, **kwargs)\n",
    "    return g\n",
    "\n",
    "g = doubler_correct(f2)\n",
    "print(g(4, 10))"
   ]
  }
 ],
 "metadata": {
  "kernelspec": {
   "display_name": "Python 3",
   "language": "python",
   "name": "python3"
  },
  "language_info": {
   "codemirror_mode": {
    "name": "ipython",
    "version": 3
   },
   "file_extension": ".py",
   "mimetype": "text/x-python",
   "name": "python",
   "nbconvert_exporter": "python",
   "pygments_lexer": "ipython3",
   "version": "3.7.4"
  }
 },
 "nbformat": 4,
 "nbformat_minor": 2
}
