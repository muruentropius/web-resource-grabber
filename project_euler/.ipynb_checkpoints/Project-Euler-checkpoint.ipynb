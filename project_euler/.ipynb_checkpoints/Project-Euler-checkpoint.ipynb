{
 "cells": [
  {
   "cell_type": "code",
   "execution_count": 2,
   "metadata": {},
   "outputs": [],
   "source": [
    "import numpy as np\n",
    "import tensorflow as tf\n",
    "import pandas as pd\n",
    "import csv"
   ]
  },
  {
   "cell_type": "code",
   "execution_count": 4,
   "metadata": {},
   "outputs": [
    {
     "name": "stdout",
     "output_type": "stream",
     "text": [
      "648\n"
     ]
    }
   ],
   "source": [
    "# PE020\n",
    "def factorial(x):\n",
    "    if x < 2:\n",
    "        return 1\n",
    "    return x * factorial(x-1)\n",
    "\n",
    "s = str(factorial(100))\n",
    "ans = sum(int(i) for i in s)\n",
    "\n",
    "print(ans)"
   ]
  },
  {
   "cell_type": "code",
   "execution_count": 37,
   "metadata": {},
   "outputs": [
    {
     "name": "stdout",
     "output_type": "stream",
     "text": [
      "5537376230\n"
     ]
    }
   ],
   "source": [
    "# PE013\n",
    "ans = 0\n",
    "with open('./PE013.csv', 'r', encoding='utf-8') as f:\n",
    "    reader = csv.reader(f)\n",
    "    for line in reader:\n",
    "        ans += int(line[0])\n",
    "\n",
    "ans = str(ans)[:10] # 큰 수를 str으로 변환하여 슬라이싱\n",
    "print(ans)"
   ]
  },
  {
   "cell_type": "code",
   "execution_count": 43,
   "metadata": {},
   "outputs": [],
   "source": [
    "for i in range(0, -3):\n",
    "    print(3)"
   ]
  },
  {
   "cell_type": "code",
   "execution_count": 46,
   "metadata": {
    "scrolled": true
   },
   "outputs": [
    {
     "name": "stdout",
     "output_type": "stream",
     "text": [
      "70600674\n"
     ]
    }
   ],
   "source": [
    "# PE011\n",
    "grid = np.zeros((20, 20), dtype=np.int32)\n",
    "\n",
    "with open('./PE011.txt', 'r', encoding='utf-8') as f:\n",
    "    lines = f.readlines()\n",
    "    for i, line in enumerate(lines):\n",
    "        num_arr = [int(num) for num in line.split(' ')]\n",
    "        grid[i] = num_arr \n",
    "\n",
    "ans = 0\n",
    "for i in range(0, 20):\n",
    "    for j in range(0, 17):\n",
    "        ans = max(ans, grid[i][j] * grid[i][j+1] * grid[i][j+2] * grid[i][j+3])\n",
    "for i in range(0, 20):\n",
    "    for j in range(0, 17):\n",
    "        ans = max(ans, grid[j][i] * grid[j+1][i] * grid[j+2][i] * grid[j+3][i])\n",
    "for i in range(0, 20): #0...19\n",
    "    for j in range(0, i-2): # 0...16 #3 >> 1 19 >> 17\n",
    "        ans = max(ans, grid[i][j] * grid[i-1][j+1] * grid[i-2][j+2] * grid[i-3][j+3])\n",
    "for i in range(0, 20):\n",
    "    for j in range(0, 17-i):\n",
    "        ans = max(ans, grid[j][i] * grid[j-1][i+1] * grid[j-2][i+2] * grid[j-3][i+3])\n",
    "for i in range(0, 20):\n",
    "    for j in range(0, 17-i):\n",
    "        ans = max(ans, grid[i][j] * grid[i+1][j+1] * grid[i+2][i+2] * grid[i+3][i+3])\n",
    "for i in range(0, 20):\n",
    "    for j in range(0, 17-i):\n",
    "        ans = max(ans, grid[j][i] * grid[j+1][i+1] * grid[j+2][i+2] * grid[j+3][i+3])\n",
    "\n",
    "print(ans)"
   ]
  },
  {
   "cell_type": "code",
   "execution_count": 25,
   "metadata": {
    "scrolled": false
   },
   "outputs": [
    {
     "name": "stdout",
     "output_type": "stream",
     "text": [
      "1074\n"
     ]
    }
   ],
   "source": [
    "# PE018\n",
    "obj = np.zeros((16, 16), dtype=np.int32)\n",
    "with open('./PE018.txt', 'r', encoding='utf-8') as f:\n",
    "    for i in range(1,16):\n",
    "        line = f.readline()\n",
    "        for j, num in enumerate((int(n) for n in line.split(' '))):\n",
    "            obj[i][j+1] = num\n",
    "\n",
    "for i in range(2, 16):\n",
    "    for j in range(1, i+1):\n",
    "        if j==1:\n",
    "            obj[i][j] += obj[i-1][j]\n",
    "        elif j==i:\n",
    "            obj[i][j] += obj[i-1][j-1]\n",
    "        else:\n",
    "            obj[i][j] += max(obj[i-1][j-1], obj[i-1][j])\n",
    "            \n",
    "ans = max(obj[15])\n",
    "print(ans)"
   ]
  },
  {
   "cell_type": "code",
   "execution_count": 27,
   "metadata": {},
   "outputs": [
    {
     "name": "stdout",
     "output_type": "stream",
     "text": [
      "7273\n"
     ]
    }
   ],
   "source": [
    "# PE067\n",
    "obj = np.zeros((101, 101), dtype=np.int32)\n",
    "with open('./PE067.txt', 'r', encoding='utf-8') as f:\n",
    "    for i in range(1,101):\n",
    "        line = f.readline()\n",
    "        for j, num in enumerate((int(n) for n in line.split(' '))):\n",
    "            obj[i][j+1] = num\n",
    "\n",
    "for i in range(2, 101):\n",
    "    for j in range(1, i+1):\n",
    "        if j==1:\n",
    "            obj[i][j] += obj[i-1][j]\n",
    "        elif j==i:\n",
    "            obj[i][j] += obj[i-1][j-1]\n",
    "        else:\n",
    "            obj[i][j] += max(obj[i-1][j-1], obj[i-1][j])\n",
    "            \n",
    "ans = max(obj[100])\n",
    "print(ans)"
   ]
  },
  {
   "cell_type": "code",
   "execution_count": 66,
   "metadata": {},
   "outputs": [
    {
     "name": "stdout",
     "output_type": "stream",
     "text": [
      "171\n"
     ]
    }
   ],
   "source": [
    "#PE019\n",
    "days = [31, 28, 31, 30, 31, 30, 31, 31, 30, 31, 30, 31]\n",
    "\n",
    "def is_leap(year):\n",
    "    if year % 4 == 0 and year % 100 != 0:\n",
    "        return True\n",
    "    elif year % 400 == 0:\n",
    "        return True\n",
    "    else:\n",
    "        return False\n",
    "def days_of_month(month, year):\n",
    "    if month == 2 and is_leap(year) is True:\n",
    "        return 29\n",
    "    else:\n",
    "        return days[month-1]\n",
    "def below(DMY_1, DMY_2):\n",
    "    d_1, m_1, y_1  = DMY_1\n",
    "    d_2, m_2, y_2  = DMY_2\n",
    "    if y_1 != y_2:\n",
    "        return y_1 <= y_2\n",
    "    if m_1 != m_2:\n",
    "        return m_1 <= m_2\n",
    "    return d_1 <= d_2\n",
    "def add(DMY, n):\n",
    "    d, m, y = DMY\n",
    "    \n",
    "    d += n\n",
    "    \n",
    "    if d > days_of_month(m, y):\n",
    "        d -= days_of_month(m, y)\n",
    "        m += 1\n",
    "    if m > 12:\n",
    "        m, y = (1, y+1)\n",
    "        \n",
    "    return (d, m, y)\n",
    "\n",
    "DMY = (6, 1, 1901) # The first Sunday during given period, calculated by myself :))\n",
    "\n",
    "ans = 0\n",
    "while below(DMY, (1, 1, 2001)) is True:\n",
    "    if(DMY[0] == 1):\n",
    "        ans += 1\n",
    "    DMY = add(DMY, 7)\n",
    "\n",
    "print(ans)"
   ]
  },
  {
   "cell_type": "code",
   "execution_count": 11,
   "metadata": {},
   "outputs": [
    {
     "data": {
      "text/plain": [
       "65"
      ]
     },
     "execution_count": 11,
     "metadata": {},
     "output_type": "execute_result"
    }
   ],
   "source": [
    "ord('A') - 64"
   ]
  },
  {
   "cell_type": "code",
   "execution_count": 18,
   "metadata": {},
   "outputs": [
    {
     "name": "stdout",
     "output_type": "stream",
     "text": [
      "871198282\n"
     ]
    }
   ],
   "source": [
    "#PE022\n",
    "def name_score(name):\n",
    "    return sum(map(lambda x: ord(x) - 64, name))\n",
    "\n",
    "with open(\"./PE022.txt\", 'r', encoding='utf-8') as f:\n",
    "    line = f.readline()\n",
    "    names = [name[1:-1] for name in line.split(',')]\n",
    "    names.sort()\n",
    "\n",
    "ans = 0\n",
    "for i, name in enumerate(names):\n",
    "    # print(i+1, name, name_score(name))\n",
    "    ans += (i+1) * name_score(name)\n",
    "\n",
    "print(ans)"
   ]
  },
  {
   "cell_type": "code",
   "execution_count": null,
   "metadata": {},
   "outputs": [],
   "source": [
    "#PE025\n"
   ]
  }
 ],
 "metadata": {
  "kernelspec": {
   "display_name": "Python 3",
   "language": "python",
   "name": "python3"
  },
  "language_info": {
   "codemirror_mode": {
    "name": "ipython",
    "version": 3
   },
   "file_extension": ".py",
   "mimetype": "text/x-python",
   "name": "python",
   "nbconvert_exporter": "python",
   "pygments_lexer": "ipython3",
   "version": "3.7.4"
  }
 },
 "nbformat": 4,
 "nbformat_minor": 2
}
